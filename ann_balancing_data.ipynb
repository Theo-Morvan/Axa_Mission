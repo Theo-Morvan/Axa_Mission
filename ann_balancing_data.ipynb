{
 "cells": [
  {
   "cell_type": "code",
   "execution_count": 1,
   "metadata": {},
   "outputs": [
    {
     "name": "stderr",
     "output_type": "stream",
     "text": [
      "Using TensorFlow backend.\n"
     ]
    }
   ],
   "source": [
    "import pandas as pd\n",
    "import numpy as np\n",
    "import matplotlib.pyplot as plt\n",
    "import seaborn as sns\n",
    "from sklearn.preprocessing import OneHotEncoder, StandardScaler\n",
    "from sklearn.compose import make_column_transformer\n",
    "from sklearn.model_selection import train_test_split\n",
    "from sklearn.preprocessing import MinMaxScaler\n",
    "from sklearn.metrics import confusion_matrix, classification_report\n",
    "from sklearn.utils import class_weight\n",
    "from imblearn.over_sampling  import SMOTE\n",
    "import xgboost\n",
    "from sklearn.utils import class_weight\n",
    "from keras.models import Sequential, Model\n",
    "from keras.layers import Dense\n",
    "from keras.layers import Dropout, Input, Embedding, Reshape, Concatenate, Activation, LeakyReLU, BatchNormalization\n",
    "from keras.callbacks import EarlyStopping\n",
    "import time"
   ]
  },
  {
   "cell_type": "code",
   "execution_count": 2,
   "metadata": {},
   "outputs": [],
   "source": [
    "def plot_confusion_matrix(y_true, y_pred, classes,\n",
    "                          normalize=False,\n",
    "                          title=None,\n",
    "                          cmap=plt.cm.Blues):\n",
    "    \"\"\"\n",
    "    This function prints and plots the confusion matrix.\n",
    "    Normalization can be applied by setting `normalize=True`.\n",
    "    \"\"\"\n",
    "    if not title:\n",
    "        if normalize:\n",
    "            title = 'Normalized confusion matrix'\n",
    "        else:\n",
    "            title = 'Confusion matrix, without normalization'\n",
    "\n",
    "    # Compute confusion matrix\n",
    "    cm = confusion_matrix(y_true, y_pred)\n",
    "    if normalize:\n",
    "        cm = cm.astype('float') / cm.sum(axis=1)[:, np.newaxis]\n",
    "        print(\"Normalized confusion matrix\")\n",
    "    else:\n",
    "        print('Confusion matrix, without normalization')\n",
    "\n",
    "    print(cm)\n",
    "\n",
    "    fig, ax = plt.subplots(figsize=(10,10))\n",
    "    im = ax.imshow(cm, interpolation='nearest', cmap=cmap)\n",
    "    ax.figure.colorbar(im, ax=ax)\n",
    "    # We want to show all ticks...\n",
    "    ax.set(xticks=np.arange(cm.shape[1]),\n",
    "           yticks=np.arange(cm.shape[0]),\n",
    "           # ... and label them with the respective list entries\n",
    "           xticklabels=classes, yticklabels=classes,\n",
    "           title=title,\n",
    "           ylabel='True label',\n",
    "           xlabel='Predicted label')\n",
    "\n",
    "    # Rotate the tick labels and set their alignment.\n",
    "    plt.setp(ax.get_xticklabels(), rotation=45, ha=\"right\",\n",
    "             rotation_mode=\"anchor\")\n",
    "\n",
    "    # Loop over data dimensions and create text annotations.\n",
    "    fmt = '.2f' if normalize else 'd'\n",
    "    thresh = cm.max() / 2.\n",
    "    for i in range(cm.shape[0]):\n",
    "        for j in range(cm.shape[1]):\n",
    "            ax.text(j, i, format(cm[i, j], fmt),\n",
    "                    ha=\"center\", va=\"center\",\n",
    "                    color=\"white\" if cm[i, j] > thresh else \"black\")\n",
    "    fig.tight_layout()\n",
    "    return ax"
   ]
  },
  {
   "cell_type": "code",
   "execution_count": 3,
   "metadata": {},
   "outputs": [
    {
     "data": {
      "text/html": [
       "<div>\n",
       "<style scoped>\n",
       "    .dataframe tbody tr th:only-of-type {\n",
       "        vertical-align: middle;\n",
       "    }\n",
       "\n",
       "    .dataframe tbody tr th {\n",
       "        vertical-align: top;\n",
       "    }\n",
       "\n",
       "    .dataframe thead th {\n",
       "        text-align: right;\n",
       "    }\n",
       "</style>\n",
       "<table border=\"1\" class=\"dataframe\">\n",
       "  <thead>\n",
       "    <tr style=\"text-align: right;\">\n",
       "      <th></th>\n",
       "      <th>Nombre pieces principales</th>\n",
       "      <th>Surface reelle bati</th>\n",
       "      <th>Valeur fonciere</th>\n",
       "      <th>Code postal</th>\n",
       "      <th>Code type local</th>\n",
       "      <th>year</th>\n",
       "      <th>month</th>\n",
       "      <th>day</th>\n",
       "      <th>P15_POP</th>\n",
       "      <th>MED14</th>\n",
       "      <th>nombre de redevables</th>\n",
       "      <th>Typo degré de densité</th>\n",
       "      <th>Part population dense (1)</th>\n",
       "      <th>Part population intermédiaire (2)</th>\n",
       "      <th>Part population peu dense (3)</th>\n",
       "      <th>Part population très peu dense (4)</th>\n",
       "      <th>Longitude</th>\n",
       "      <th>Latitude</th>\n",
       "      <th>€/m2</th>\n",
       "    </tr>\n",
       "  </thead>\n",
       "  <tbody>\n",
       "    <tr>\n",
       "      <th>0</th>\n",
       "      <td>2</td>\n",
       "      <td>50</td>\n",
       "      <td>240000</td>\n",
       "      <td>83640</td>\n",
       "      <td>1</td>\n",
       "      <td>2014</td>\n",
       "      <td>1</td>\n",
       "      <td>1</td>\n",
       "      <td>7459.0</td>\n",
       "      <td>22316.0</td>\n",
       "      <td>0.0</td>\n",
       "      <td>2.277</td>\n",
       "      <td>0.0</td>\n",
       "      <td>0.624</td>\n",
       "      <td>0.364</td>\n",
       "      <td>0.012</td>\n",
       "      <td>5.717</td>\n",
       "      <td>43.333</td>\n",
       "      <td>4800.000000</td>\n",
       "    </tr>\n",
       "    <tr>\n",
       "      <th>1</th>\n",
       "      <td>3</td>\n",
       "      <td>87</td>\n",
       "      <td>43000</td>\n",
       "      <td>16700</td>\n",
       "      <td>1</td>\n",
       "      <td>2014</td>\n",
       "      <td>1</td>\n",
       "      <td>1</td>\n",
       "      <td>9611.0</td>\n",
       "      <td>18267.0</td>\n",
       "      <td>0.0</td>\n",
       "      <td>3.274</td>\n",
       "      <td>0.0</td>\n",
       "      <td>0.000</td>\n",
       "      <td>0.707</td>\n",
       "      <td>0.293</td>\n",
       "      <td>0.162</td>\n",
       "      <td>45.959</td>\n",
       "      <td>494.252874</td>\n",
       "    </tr>\n",
       "    <tr>\n",
       "      <th>2</th>\n",
       "      <td>2</td>\n",
       "      <td>50</td>\n",
       "      <td>240000</td>\n",
       "      <td>83640</td>\n",
       "      <td>1</td>\n",
       "      <td>2014</td>\n",
       "      <td>1</td>\n",
       "      <td>1</td>\n",
       "      <td>7459.0</td>\n",
       "      <td>22316.0</td>\n",
       "      <td>0.0</td>\n",
       "      <td>2.277</td>\n",
       "      <td>0.0</td>\n",
       "      <td>0.624</td>\n",
       "      <td>0.364</td>\n",
       "      <td>0.012</td>\n",
       "      <td>5.717</td>\n",
       "      <td>43.333</td>\n",
       "      <td>4800.000000</td>\n",
       "    </tr>\n",
       "    <tr>\n",
       "      <th>3</th>\n",
       "      <td>4</td>\n",
       "      <td>74</td>\n",
       "      <td>73000</td>\n",
       "      <td>9220</td>\n",
       "      <td>1</td>\n",
       "      <td>2014</td>\n",
       "      <td>1</td>\n",
       "      <td>2</td>\n",
       "      <td>1157.0</td>\n",
       "      <td>18233.0</td>\n",
       "      <td>0.0</td>\n",
       "      <td>3.086</td>\n",
       "      <td>0.0</td>\n",
       "      <td>0.000</td>\n",
       "      <td>0.865</td>\n",
       "      <td>0.135</td>\n",
       "      <td>1.564</td>\n",
       "      <td>42.764</td>\n",
       "      <td>986.486486</td>\n",
       "    </tr>\n",
       "    <tr>\n",
       "      <th>4</th>\n",
       "      <td>5</td>\n",
       "      <td>92</td>\n",
       "      <td>150000</td>\n",
       "      <td>80500</td>\n",
       "      <td>1</td>\n",
       "      <td>2014</td>\n",
       "      <td>1</td>\n",
       "      <td>2</td>\n",
       "      <td>12900.0</td>\n",
       "      <td>18641.0</td>\n",
       "      <td>0.0</td>\n",
       "      <td>2.698</td>\n",
       "      <td>0.0</td>\n",
       "      <td>0.450</td>\n",
       "      <td>0.354</td>\n",
       "      <td>0.197</td>\n",
       "      <td>2.567</td>\n",
       "      <td>49.650</td>\n",
       "      <td>1630.434783</td>\n",
       "    </tr>\n",
       "  </tbody>\n",
       "</table>\n",
       "</div>"
      ],
      "text/plain": [
       "   Nombre pieces principales  Surface reelle bati  Valeur fonciere  \\\n",
       "0                          2                   50           240000   \n",
       "1                          3                   87            43000   \n",
       "2                          2                   50           240000   \n",
       "3                          4                   74            73000   \n",
       "4                          5                   92           150000   \n",
       "\n",
       "   Code postal  Code type local  year  month  day  P15_POP    MED14  \\\n",
       "0        83640                1  2014      1    1   7459.0  22316.0   \n",
       "1        16700                1  2014      1    1   9611.0  18267.0   \n",
       "2        83640                1  2014      1    1   7459.0  22316.0   \n",
       "3         9220                1  2014      1    2   1157.0  18233.0   \n",
       "4        80500                1  2014      1    2  12900.0  18641.0   \n",
       "\n",
       "   nombre de redevables  Typo degré de densité  Part population dense (1)  \\\n",
       "0                   0.0                  2.277                        0.0   \n",
       "1                   0.0                  3.274                        0.0   \n",
       "2                   0.0                  2.277                        0.0   \n",
       "3                   0.0                  3.086                        0.0   \n",
       "4                   0.0                  2.698                        0.0   \n",
       "\n",
       "   Part population intermédiaire (2)  Part population peu dense (3)  \\\n",
       "0                              0.624                          0.364   \n",
       "1                              0.000                          0.707   \n",
       "2                              0.624                          0.364   \n",
       "3                              0.000                          0.865   \n",
       "4                              0.450                          0.354   \n",
       "\n",
       "   Part population très peu dense (4)  Longitude  Latitude         €/m2  \n",
       "0                               0.012      5.717    43.333  4800.000000  \n",
       "1                               0.293      0.162    45.959   494.252874  \n",
       "2                               0.012      5.717    43.333  4800.000000  \n",
       "3                               0.135      1.564    42.764   986.486486  \n",
       "4                               0.197      2.567    49.650  1630.434783  "
      ]
     },
     "execution_count": 3,
     "metadata": {},
     "output_type": "execute_result"
    }
   ],
   "source": [
    "raw_data = pd.read_csv('final_wth_outliners_plus.csv')\n",
    "raw_data = raw_data.drop(['Unnamed: 0'], axis=1)\n",
    "raw_data.head()\n"
   ]
  },
  {
   "cell_type": "code",
   "execution_count": 4,
   "metadata": {},
   "outputs": [
    {
     "data": {
      "text/html": [
       "<div>\n",
       "<style scoped>\n",
       "    .dataframe tbody tr th:only-of-type {\n",
       "        vertical-align: middle;\n",
       "    }\n",
       "\n",
       "    .dataframe tbody tr th {\n",
       "        vertical-align: top;\n",
       "    }\n",
       "\n",
       "    .dataframe thead th {\n",
       "        text-align: right;\n",
       "    }\n",
       "</style>\n",
       "<table border=\"1\" class=\"dataframe\">\n",
       "  <thead>\n",
       "    <tr style=\"text-align: right;\">\n",
       "      <th></th>\n",
       "      <th>Nombre pieces principales</th>\n",
       "      <th>Surface reelle bati</th>\n",
       "      <th>Valeur fonciere</th>\n",
       "      <th>Code postal</th>\n",
       "      <th>Code type local</th>\n",
       "      <th>year</th>\n",
       "      <th>month</th>\n",
       "      <th>day</th>\n",
       "      <th>P15_POP</th>\n",
       "      <th>MED14</th>\n",
       "      <th>nombre de redevables</th>\n",
       "      <th>Typo degré de densité</th>\n",
       "      <th>Part population dense (1)</th>\n",
       "      <th>Part population intermédiaire (2)</th>\n",
       "      <th>Part population peu dense (3)</th>\n",
       "      <th>Part population très peu dense (4)</th>\n",
       "      <th>Longitude</th>\n",
       "      <th>Latitude</th>\n",
       "      <th>€/m2</th>\n",
       "    </tr>\n",
       "  </thead>\n",
       "  <tbody>\n",
       "    <tr>\n",
       "      <th>0</th>\n",
       "      <td>2</td>\n",
       "      <td>50</td>\n",
       "      <td>240000</td>\n",
       "      <td>83640</td>\n",
       "      <td>1</td>\n",
       "      <td>2014</td>\n",
       "      <td>1</td>\n",
       "      <td>1</td>\n",
       "      <td>7459.0</td>\n",
       "      <td>22316.0</td>\n",
       "      <td>0.0</td>\n",
       "      <td>2.277</td>\n",
       "      <td>0.0</td>\n",
       "      <td>0.624</td>\n",
       "      <td>0.364</td>\n",
       "      <td>0.012</td>\n",
       "      <td>5.717</td>\n",
       "      <td>43.333</td>\n",
       "      <td>4800.000000</td>\n",
       "    </tr>\n",
       "    <tr>\n",
       "      <th>1</th>\n",
       "      <td>3</td>\n",
       "      <td>87</td>\n",
       "      <td>43000</td>\n",
       "      <td>16700</td>\n",
       "      <td>1</td>\n",
       "      <td>2014</td>\n",
       "      <td>1</td>\n",
       "      <td>1</td>\n",
       "      <td>9611.0</td>\n",
       "      <td>18267.0</td>\n",
       "      <td>0.0</td>\n",
       "      <td>3.274</td>\n",
       "      <td>0.0</td>\n",
       "      <td>0.000</td>\n",
       "      <td>0.707</td>\n",
       "      <td>0.293</td>\n",
       "      <td>0.162</td>\n",
       "      <td>45.959</td>\n",
       "      <td>494.252874</td>\n",
       "    </tr>\n",
       "    <tr>\n",
       "      <th>2</th>\n",
       "      <td>2</td>\n",
       "      <td>50</td>\n",
       "      <td>240000</td>\n",
       "      <td>83640</td>\n",
       "      <td>1</td>\n",
       "      <td>2014</td>\n",
       "      <td>1</td>\n",
       "      <td>1</td>\n",
       "      <td>7459.0</td>\n",
       "      <td>22316.0</td>\n",
       "      <td>0.0</td>\n",
       "      <td>2.277</td>\n",
       "      <td>0.0</td>\n",
       "      <td>0.624</td>\n",
       "      <td>0.364</td>\n",
       "      <td>0.012</td>\n",
       "      <td>5.717</td>\n",
       "      <td>43.333</td>\n",
       "      <td>4800.000000</td>\n",
       "    </tr>\n",
       "    <tr>\n",
       "      <th>3</th>\n",
       "      <td>4</td>\n",
       "      <td>74</td>\n",
       "      <td>73000</td>\n",
       "      <td>9220</td>\n",
       "      <td>1</td>\n",
       "      <td>2014</td>\n",
       "      <td>1</td>\n",
       "      <td>2</td>\n",
       "      <td>1157.0</td>\n",
       "      <td>18233.0</td>\n",
       "      <td>0.0</td>\n",
       "      <td>3.086</td>\n",
       "      <td>0.0</td>\n",
       "      <td>0.000</td>\n",
       "      <td>0.865</td>\n",
       "      <td>0.135</td>\n",
       "      <td>1.564</td>\n",
       "      <td>42.764</td>\n",
       "      <td>986.486486</td>\n",
       "    </tr>\n",
       "    <tr>\n",
       "      <th>4</th>\n",
       "      <td>5</td>\n",
       "      <td>92</td>\n",
       "      <td>150000</td>\n",
       "      <td>80500</td>\n",
       "      <td>1</td>\n",
       "      <td>2014</td>\n",
       "      <td>1</td>\n",
       "      <td>2</td>\n",
       "      <td>12900.0</td>\n",
       "      <td>18641.0</td>\n",
       "      <td>0.0</td>\n",
       "      <td>2.698</td>\n",
       "      <td>0.0</td>\n",
       "      <td>0.450</td>\n",
       "      <td>0.354</td>\n",
       "      <td>0.197</td>\n",
       "      <td>2.567</td>\n",
       "      <td>49.650</td>\n",
       "      <td>1630.434783</td>\n",
       "    </tr>\n",
       "  </tbody>\n",
       "</table>\n",
       "</div>"
      ],
      "text/plain": [
       "   Nombre pieces principales  Surface reelle bati  Valeur fonciere  \\\n",
       "0                          2                   50           240000   \n",
       "1                          3                   87            43000   \n",
       "2                          2                   50           240000   \n",
       "3                          4                   74            73000   \n",
       "4                          5                   92           150000   \n",
       "\n",
       "   Code postal  Code type local  year  month  day  P15_POP    MED14  \\\n",
       "0        83640                1  2014      1    1   7459.0  22316.0   \n",
       "1        16700                1  2014      1    1   9611.0  18267.0   \n",
       "2        83640                1  2014      1    1   7459.0  22316.0   \n",
       "3         9220                1  2014      1    2   1157.0  18233.0   \n",
       "4        80500                1  2014      1    2  12900.0  18641.0   \n",
       "\n",
       "   nombre de redevables  Typo degré de densité  Part population dense (1)  \\\n",
       "0                   0.0                  2.277                        0.0   \n",
       "1                   0.0                  3.274                        0.0   \n",
       "2                   0.0                  2.277                        0.0   \n",
       "3                   0.0                  3.086                        0.0   \n",
       "4                   0.0                  2.698                        0.0   \n",
       "\n",
       "   Part population intermédiaire (2)  Part population peu dense (3)  \\\n",
       "0                              0.624                          0.364   \n",
       "1                              0.000                          0.707   \n",
       "2                              0.624                          0.364   \n",
       "3                              0.000                          0.865   \n",
       "4                              0.450                          0.354   \n",
       "\n",
       "   Part population très peu dense (4)  Longitude  Latitude         €/m2  \n",
       "0                               0.012      5.717    43.333  4800.000000  \n",
       "1                               0.293      0.162    45.959   494.252874  \n",
       "2                               0.012      5.717    43.333  4800.000000  \n",
       "3                               0.135      1.564    42.764   986.486486  \n",
       "4                               0.197      2.567    49.650  1630.434783  "
      ]
     },
     "execution_count": 4,
     "metadata": {},
     "output_type": "execute_result"
    }
   ],
   "source": [
    "Y = raw_data['Nombre pieces principales']\n",
    "Y = list(Y)\n",
    "df= raw_data.copy()\n",
    "for i, m in enumerate(Y):\n",
    "    if m >= 7:\n",
    "        Y[i] = 7\n",
    "    elif m<=1:\n",
    "        Y[i] = 1\n",
    "\n",
    "df.drop('Nombre pieces principales', axis = 1, inplace = True)\n",
    "df.insert(loc=0, column='Nombre pieces principales', value=Y)\n",
    "\n",
    "del Y\n",
    "df.head()"
   ]
  },
  {
   "cell_type": "code",
   "execution_count": 5,
   "metadata": {},
   "outputs": [
    {
     "data": {
      "image/png": "[encoded data removed]",
      "text/plain": [
       "<Figure size 1800x720 with 1 Axes>"
      ]
     },
     "metadata": {
      "needs_background": "light"
     },
     "output_type": "display_data"
    }
   ],
   "source": [
    "Y = df['Nombre pieces principales']\n",
    "\n",
    "plt.figure(figsize=(25,10))\n",
    "bars = plt.bar(Y.value_counts().index, list(Y.value_counts()))\n",
    "\n",
    "i = 0\n",
    "for rect in bars:\n",
    "    if rect.get_height() < 5000:\n",
    "        h = 20000**(i%2)\n",
    "        height = rect.get_height()\n",
    "        plt.text(rect.get_x() + rect.get_width()/2.0, height+h, '%d' % int(height), ha='center', va='bottom')\n",
    "        i += 1\n",
    "\n",
    "plt.xlabel('Number of rooms')\n",
    "plt.ylabel('Number of occurances')\n",
    "plt.title('Distribution of room types in Notarial database')\n",
    "#plt.grid(True)\n",
    "plt.xticks(Y.value_counts().index)\n",
    "#plt.savefig('Distribution of room types in Notarial database.png', dpi=200)\n",
    "plt.show()\n",
    "plt.close()\n",
    "\n",
    "del Y"
   ]
  },
  {
   "cell_type": "code",
   "execution_count": 6,
   "metadata": {},
   "outputs": [],
   "source": [
    "columns = raw_data.columns"
   ]
  },
  {
   "cell_type": "code",
   "execution_count": 7,
   "metadata": {},
   "outputs": [
    {
     "data": {
      "text/plain": [
       "Index(['Nombre pieces principales', 'Surface reelle bati', 'Valeur fonciere',\n",
       "       'Code postal', 'Code type local', 'year', 'month', 'day', 'P15_POP',\n",
       "       'MED14', 'nombre de redevables', 'Typo degré de densité',\n",
       "       'Part population dense (1)', 'Part population intermédiaire (2)',\n",
       "       'Part population peu dense (3)', 'Part population très peu dense (4)',\n",
       "       'Longitude', 'Latitude', '€/m2'],\n",
       "      dtype='object')"
      ]
     },
     "execution_count": 7,
     "metadata": {},
     "output_type": "execute_result"
    }
   ],
   "source": [
    "columns"
   ]
  },
  {
   "cell_type": "code",
   "execution_count": 8,
   "metadata": {},
   "outputs": [],
   "source": [
    "x_colums = ['Surface reelle bati', 'Valeur fonciere',\n",
    "       'Code postal', 'Code type local', 'year', 'month', 'day', 'P15_POP',\n",
    "       'MED14', 'nombre de redevables', 'Typo degré de densité',\n",
    "       'Part population dense (1)', 'Part population intermédiaire (2)',\n",
    "       'Part population peu dense (3)', 'Part population très peu dense (4)',\n",
    "       'Longitude', 'Latitude', '€/m2']\n",
    "y_column = 'Nombre pieces principales'"
   ]
  },
  {
   "cell_type": "code",
   "execution_count": 9,
   "metadata": {},
   "outputs": [],
   "source": [
    "test_data = raw_data[raw_data['Nombre pieces principales'].isin([3,4])]"
   ]
  },
  {
   "cell_type": "code",
   "execution_count": 10,
   "metadata": {},
   "outputs": [],
   "source": [
    "y_data = test_data['Nombre pieces principales'].values\n",
    "X_data = test_data[x_colums]"
   ]
  },
  {
   "cell_type": "code",
   "execution_count": 11,
   "metadata": {},
   "outputs": [],
   "source": [
    "X_train, X_test, y_train, y_test = train_test_split(X_data, y_data, test_size=0.33, random_state=42)"
   ]
  },
  {
   "cell_type": "code",
   "execution_count": 14,
   "metadata": {},
   "outputs": [
    {
     "data": {
      "text/plain": [
       "984515"
      ]
     },
     "execution_count": 14,
     "metadata": {},
     "output_type": "execute_result"
    }
   ],
   "source": [
    "len(X_train)"
   ]
  },
  {
   "cell_type": "code",
   "execution_count": 15,
   "metadata": {},
   "outputs": [],
   "source": [
    "data = raw_data[raw_data['Nombre pieces principales'].isin([1,2,5,6,7])]"
   ]
  },
  {
   "cell_type": "code",
   "execution_count": 21,
   "metadata": {},
   "outputs": [],
   "source": [
    "X_data = data[x_colums]\n",
    "y_data = data[y_column]"
   ]
  },
  {
   "cell_type": "code",
   "execution_count": 24,
   "metadata": {},
   "outputs": [],
   "source": [
    "data_bis= np.concatenate((X_data,X_train), axis=0)"
   ]
  },
  {
   "cell_type": "code",
   "execution_count": 25,
   "metadata": {},
   "outputs": [],
   "source": [
    "targets = np.concatenate((y_data, y_train), axis=0)"
   ]
  },
  {
   "cell_type": "code",
   "execution_count": 26,
   "metadata": {},
   "outputs": [
    {
     "ename": "ValueError",
     "evalue": "all the input arrays must have same number of dimensions",
     "output_type": "error",
     "traceback": [
      "\u001b[1;31m---------------------------------------------------------------------------\u001b[0m",
      "\u001b[1;31mValueError\u001b[0m                                Traceback (most recent call last)",
      "\u001b[1;32m<ipython-input-26-c7f3f066f63c>\u001b[0m in \u001b[0;36m<module>\u001b[1;34m\u001b[0m\n\u001b[1;32m----> 1\u001b[1;33m \u001b[0mdataset\u001b[0m \u001b[1;33m=\u001b[0m \u001b[0mnp\u001b[0m\u001b[1;33m.\u001b[0m\u001b[0mconcatenate\u001b[0m\u001b[1;33m(\u001b[0m\u001b[1;33m(\u001b[0m\u001b[0mdata_bis\u001b[0m\u001b[1;33m,\u001b[0m\u001b[0mtargets\u001b[0m\u001b[1;33m)\u001b[0m\u001b[1;33m,\u001b[0m \u001b[0maxis\u001b[0m\u001b[1;33m=\u001b[0m\u001b[1;36m1\u001b[0m\u001b[1;33m)\u001b[0m\u001b[1;33m\u001b[0m\u001b[1;33m\u001b[0m\u001b[0m\n\u001b[0m",
      "\u001b[1;31mValueError\u001b[0m: all the input arrays must have same number of dimensions"
     ]
    }
   ],
   "source": [
    "dataset = np.concatenate((data_bis,targets), axis=1)"
   ]
  },
  {
   "cell_type": "code",
   "execution_count": 29,
   "metadata": {},
   "outputs": [],
   "source": [
    "dataset = pd.DataFrame(data_bis, columns=x_colums)"
   ]
  },
  {
   "cell_type": "code",
   "execution_count": 30,
   "metadata": {},
   "outputs": [],
   "source": [
    "inputs_stdsc =dataset[['Valeur fonciere', 'Code type local',\n",
    "                        'year', 'month', 'day', 'P15_POP', 'MED14','Part population dense (1)',\n",
    "                        'Part population intermédiaire (2)', 'Part population peu dense (3)',\n",
    "                        'Part population très peu dense (4)', 'Longitude', 'Latitude']].values\n",
    "inputs_mmsc = dataset[['Surface reelle bati','nombre de redevables','Typo degré de densité']].values"
   ]
  },
  {
   "cell_type": "code",
   "execution_count": 31,
   "metadata": {},
   "outputs": [],
   "source": [
    "sc = StandardScaler()\n",
    "mms= MinMaxScaler()\n",
    "inputs_stdsc = sc.fit_transform(inputs_stdsc)\n",
    "inputs_mmsc = mms.fit_transform(inputs_mmsc)"
   ]
  },
  {
   "cell_type": "code",
   "execution_count": 32,
   "metadata": {},
   "outputs": [],
   "source": [
    "codes_postaux = dataset['Code postal'].values"
   ]
  },
  {
   "cell_type": "code",
   "execution_count": 33,
   "metadata": {},
   "outputs": [],
   "source": [
    "scaled_values = np.concatenate((np.reshape(codes_postaux,(-1,1)),inputs_stdsc, inputs_mmsc), axis=1)"
   ]
  },
  {
   "cell_type": "code",
   "execution_count": 34,
   "metadata": {},
   "outputs": [
    {
     "data": {
      "text/plain": [
       "17"
      ]
     },
     "execution_count": 34,
     "metadata": {},
     "output_type": "execute_result"
    }
   ],
   "source": [
    "cols_to_use = ['Code postal','Valeur fonciere', 'Code type local',\n",
    "                        'year', 'month', 'day', 'P15_POP', 'MED14','Part population dense (1)',\n",
    "                        'Part population intermédiaire (2)', 'Part population peu dense (3)',\n",
    "                        'Part population très peu dense (4)', 'Longitude', 'Latitude','Surface reelle bati','nombre de redevables','Typo degré de densité']\n",
    "len(cols_to_use)"
   ]
  },
  {
   "cell_type": "code",
   "execution_count": 35,
   "metadata": {},
   "outputs": [
    {
     "data": {
      "text/html": [
       "<div>\n",
       "<style scoped>\n",
       "    .dataframe tbody tr th:only-of-type {\n",
       "        vertical-align: middle;\n",
       "    }\n",
       "\n",
       "    .dataframe tbody tr th {\n",
       "        vertical-align: top;\n",
       "    }\n",
       "\n",
       "    .dataframe thead th {\n",
       "        text-align: right;\n",
       "    }\n",
       "</style>\n",
       "<table border=\"1\" class=\"dataframe\">\n",
       "  <thead>\n",
       "    <tr style=\"text-align: right;\">\n",
       "      <th></th>\n",
       "      <th>Code postal</th>\n",
       "      <th>Valeur fonciere</th>\n",
       "      <th>Code type local</th>\n",
       "      <th>year</th>\n",
       "      <th>month</th>\n",
       "      <th>day</th>\n",
       "      <th>P15_POP</th>\n",
       "      <th>MED14</th>\n",
       "      <th>Part population dense (1)</th>\n",
       "      <th>Part population intermédiaire (2)</th>\n",
       "      <th>Part population peu dense (3)</th>\n",
       "      <th>Part population très peu dense (4)</th>\n",
       "      <th>Longitude</th>\n",
       "      <th>Latitude</th>\n",
       "      <th>Surface reelle bati</th>\n",
       "      <th>nombre de redevables</th>\n",
       "      <th>Typo degré de densité</th>\n",
       "    </tr>\n",
       "  </thead>\n",
       "  <tbody>\n",
       "    <tr>\n",
       "      <th>0</th>\n",
       "      <td>83640.0</td>\n",
       "      <td>0.150590</td>\n",
       "      <td>-0.87779</td>\n",
       "      <td>-1.480904</td>\n",
       "      <td>-1.540378</td>\n",
       "      <td>-1.817235</td>\n",
       "      <td>-0.537591</td>\n",
       "      <td>0.405663</td>\n",
       "      <td>-0.737355</td>\n",
       "      <td>0.963412</td>\n",
       "      <td>0.117175</td>\n",
       "      <td>-0.419691</td>\n",
       "      <td>1.286107</td>\n",
       "      <td>-1.552239</td>\n",
       "      <td>0.055118</td>\n",
       "      <td>0.0</td>\n",
       "      <td>0.425667</td>\n",
       "    </tr>\n",
       "    <tr>\n",
       "      <th>1</th>\n",
       "      <td>83640.0</td>\n",
       "      <td>0.150590</td>\n",
       "      <td>-0.87779</td>\n",
       "      <td>-1.480904</td>\n",
       "      <td>-1.540378</td>\n",
       "      <td>-1.817235</td>\n",
       "      <td>-0.537591</td>\n",
       "      <td>0.405663</td>\n",
       "      <td>-0.737355</td>\n",
       "      <td>0.963412</td>\n",
       "      <td>0.117175</td>\n",
       "      <td>-0.419691</td>\n",
       "      <td>1.286107</td>\n",
       "      <td>-1.552239</td>\n",
       "      <td>0.055118</td>\n",
       "      <td>0.0</td>\n",
       "      <td>0.425667</td>\n",
       "    </tr>\n",
       "    <tr>\n",
       "      <th>2</th>\n",
       "      <td>80500.0</td>\n",
       "      <td>-0.292018</td>\n",
       "      <td>-0.87779</td>\n",
       "      <td>-1.480904</td>\n",
       "      <td>-1.540378</td>\n",
       "      <td>-1.705404</td>\n",
       "      <td>-0.466411</td>\n",
       "      <td>-0.602776</td>\n",
       "      <td>-0.737355</td>\n",
       "      <td>0.480422</td>\n",
       "      <td>0.089103</td>\n",
       "      <td>0.912654</td>\n",
       "      <td>0.106308</td>\n",
       "      <td>1.219520</td>\n",
       "      <td>0.102362</td>\n",
       "      <td>0.0</td>\n",
       "      <td>0.566000</td>\n",
       "    </tr>\n",
       "    <tr>\n",
       "      <th>3</th>\n",
       "      <td>9000.0</td>\n",
       "      <td>-0.218250</td>\n",
       "      <td>-0.87779</td>\n",
       "      <td>-1.480904</td>\n",
       "      <td>-1.540378</td>\n",
       "      <td>-1.705404</td>\n",
       "      <td>-0.383077</td>\n",
       "      <td>-0.253184</td>\n",
       "      <td>-0.737355</td>\n",
       "      <td>0.771882</td>\n",
       "      <td>0.136826</td>\n",
       "      <td>0.026825</td>\n",
       "      <td>-0.255871</td>\n",
       "      <td>-1.694841</td>\n",
       "      <td>0.204724</td>\n",
       "      <td>0.0</td>\n",
       "      <td>0.489667</td>\n",
       "    </tr>\n",
       "    <tr>\n",
       "      <th>4</th>\n",
       "      <td>30360.0</td>\n",
       "      <td>-0.070714</td>\n",
       "      <td>-0.87779</td>\n",
       "      <td>-1.480904</td>\n",
       "      <td>-1.540378</td>\n",
       "      <td>-1.705404</td>\n",
       "      <td>-0.541542</td>\n",
       "      <td>-0.397795</td>\n",
       "      <td>-0.737355</td>\n",
       "      <td>-0.768692</td>\n",
       "      <td>1.526407</td>\n",
       "      <td>0.458937</td>\n",
       "      <td>0.703324</td>\n",
       "      <td>-1.247727</td>\n",
       "      <td>0.137233</td>\n",
       "      <td>0.0</td>\n",
       "      <td>0.701667</td>\n",
       "    </tr>\n",
       "  </tbody>\n",
       "</table>\n",
       "</div>"
      ],
      "text/plain": [
       "   Code postal  Valeur fonciere  Code type local      year     month  \\\n",
       "0      83640.0         0.150590         -0.87779 -1.480904 -1.540378   \n",
       "1      83640.0         0.150590         -0.87779 -1.480904 -1.540378   \n",
       "2      80500.0        -0.292018         -0.87779 -1.480904 -1.540378   \n",
       "3       9000.0        -0.218250         -0.87779 -1.480904 -1.540378   \n",
       "4      30360.0        -0.070714         -0.87779 -1.480904 -1.540378   \n",
       "\n",
       "        day   P15_POP     MED14  Part population dense (1)  \\\n",
       "0 -1.817235 -0.537591  0.405663                  -0.737355   \n",
       "1 -1.817235 -0.537591  0.405663                  -0.737355   \n",
       "2 -1.705404 -0.466411 -0.602776                  -0.737355   \n",
       "3 -1.705404 -0.383077 -0.253184                  -0.737355   \n",
       "4 -1.705404 -0.541542 -0.397795                  -0.737355   \n",
       "\n",
       "   Part population intermédiaire (2)  Part population peu dense (3)  \\\n",
       "0                           0.963412                       0.117175   \n",
       "1                           0.963412                       0.117175   \n",
       "2                           0.480422                       0.089103   \n",
       "3                           0.771882                       0.136826   \n",
       "4                          -0.768692                       1.526407   \n",
       "\n",
       "   Part population très peu dense (4)  Longitude  Latitude  \\\n",
       "0                           -0.419691   1.286107 -1.552239   \n",
       "1                           -0.419691   1.286107 -1.552239   \n",
       "2                            0.912654   0.106308  1.219520   \n",
       "3                            0.026825  -0.255871 -1.694841   \n",
       "4                            0.458937   0.703324 -1.247727   \n",
       "\n",
       "   Surface reelle bati  nombre de redevables  Typo degré de densité  \n",
       "0             0.055118                   0.0               0.425667  \n",
       "1             0.055118                   0.0               0.425667  \n",
       "2             0.102362                   0.0               0.566000  \n",
       "3             0.204724                   0.0               0.489667  \n",
       "4             0.137233                   0.0               0.701667  "
      ]
     },
     "execution_count": 35,
     "metadata": {},
     "output_type": "execute_result"
    }
   ],
   "source": [
    "scaled_data = pd.DataFrame(data=scaled_values, columns = cols_to_use)\n",
    "scaled_data.head()"
   ]
  },
  {
   "cell_type": "code",
   "execution_count": 53,
   "metadata": {},
   "outputs": [],
   "source": [
    "targets = pd.DataFrame(targets, columns=[y_column])\n",
    "targets =  pd.get_dummies(targets['Nombre pieces principales']).values"
   ]
  },
  {
   "cell_type": "code",
   "execution_count": 54,
   "metadata": {},
   "outputs": [
    {
     "data": {
      "text/plain": [
       "array([[0, 1, 0, ..., 0, 0, 0],\n",
       "       [0, 1, 0, ..., 0, 0, 0],\n",
       "       [0, 0, 0, ..., 1, 0, 0],\n",
       "       ...,\n",
       "       [0, 0, 1, ..., 0, 0, 0],\n",
       "       [0, 0, 1, ..., 0, 0, 0],\n",
       "       [0, 0, 1, ..., 0, 0, 0]], dtype=uint8)"
      ]
     },
     "execution_count": 54,
     "metadata": {},
     "output_type": "execute_result"
    }
   ],
   "source": [
    "targets"
   ]
  },
  {
   "cell_type": "code",
   "execution_count": 55,
   "metadata": {},
   "outputs": [],
   "source": [
    "X_train, X_test, y_train, y_test = train_test_split(scaled_values, targets, test_size=0.1, random_state=42)\n",
    "X_train, X_val, y_train, y_val = train_test_split(X_train, y_train, test_size=(1/9), random_state=42)\n",
    "X_train = pd.DataFrame(X_train, columns=cols_to_use)\n",
    "X_val = pd.DataFrame(X_val, columns=cols_to_use)\n",
    "X_test = pd.DataFrame(X_test, columns=cols_to_use)"
   ]
  },
  {
   "cell_type": "code",
   "execution_count": 56,
   "metadata": {},
   "outputs": [],
   "source": [
    "embed_cols = ['Code postal']"
   ]
  },
  {
   "cell_type": "code",
   "execution_count": 57,
   "metadata": {},
   "outputs": [],
   "source": [
    "def preproc(X_train, X_val, X_test):\n",
    "\n",
    "    input_list_train = []\n",
    "    input_list_val = []\n",
    "    input_list_test = []\n",
    "    \n",
    "    #the cols to be embedded: rescaling to range [0, # values)\n",
    "    for c in embed_cols:\n",
    "        raw_vals = np.unique(X_train[c])\n",
    "        val_map = {}\n",
    "        for i in range(len(raw_vals)):\n",
    "            val_map[raw_vals[i]] = i       \n",
    "        input_list_train.append(X_train[c].map(val_map).values)\n",
    "        input_list_val.append(X_val[c].map(val_map).fillna(0).values)\n",
    "        input_list_test.append(X_test[c].map(val_map).fillna(0).values)\n",
    "     \n",
    "    #the rest of the columns\n",
    "    other_cols = [c for c in X_train.columns if (not c in embed_cols)]\n",
    "    input_list_train.append(X_train[other_cols].values)\n",
    "    input_list_val.append(X_val[other_cols].values)\n",
    "    input_list_test.append(X_test[other_cols].values)\n",
    "    \n",
    "    return input_list_train, input_list_val, input_list_test \n",
    "\n",
    "\n",
    "\n",
    "input_list_train, input_list_val, input_list_test= preproc(X_train, X_val, X_test)"
   ]
  },
  {
   "cell_type": "code",
   "execution_count": 58,
   "metadata": {},
   "outputs": [
    {
     "data": {
      "text/plain": [
       "16"
      ]
     },
     "execution_count": 58,
     "metadata": {},
     "output_type": "execute_result"
    }
   ],
   "source": [
    "num_numeric_values = inputs_mmsc.shape[1]+inputs_stdsc.shape[1]\n",
    "num_numeric_values"
   ]
  },
  {
   "cell_type": "code",
   "execution_count": 59,
   "metadata": {},
   "outputs": [],
   "source": [
    "def NN_model(hidden_layers, size_hl):\n",
    "    inputs=[]\n",
    "    embeddings = []\n",
    "    for categorical_var in embed_cols :\n",
    "     \n",
    "        no_of_unique_cat  = X_train[categorical_var].nunique()\n",
    "        embedding_size = min(np.ceil((no_of_unique_cat)/2), 50 )\n",
    "        embedding_size = int(embedding_size)\n",
    "        vocab  = no_of_unique_cat+1\n",
    "        input_cat =  Input(shape=(1,))\n",
    "        embedding = Embedding(vocab ,embedding_size, input_length = 1 )(input_cat)\n",
    "        embedding = Reshape(target_shape=(embedding_size,))(embedding)\n",
    "        inputs.append(input_cat)\n",
    "        embeddings.append(embedding)\n",
    "\n",
    "    input_numeric = Input(shape=(num_numeric_values,))\n",
    "    embedding_numeric = Dense(16)(input_numeric) \n",
    "    inputs.append(input_numeric)\n",
    "    embeddings.append(embedding_numeric)\n",
    "    \n",
    "    x = Concatenate()(embeddings)\n",
    "    \n",
    "    for hidden_layer in range(hidden_layers):\n",
    "        if hidden_layer==1:\n",
    "            x = Dense(int(size_hl*(1.75)), activation='linear')(x)\n",
    "            x = Activation(LeakyReLU(0.05))(x)\n",
    "            x = Dropout(.1)(x)\n",
    "            x = BatchNormalization()(x)\n",
    "        else:\n",
    "            if hidden_layer%2==0:\n",
    "                x = Dense(int(size_hl*(1.5)), activation='linear')(x)\n",
    "                x = Activation(LeakyReLU(0.05))(x)\n",
    "                x = Dropout(.1)(x)\n",
    "                x = BatchNormalization()(x)\n",
    "            elif hidden_layer%2==1:\n",
    "                x = Dense(int(size_hl*0.5), activation='linear')(x)\n",
    "                x = Activation(LeakyReLU(0.05))(x)\n",
    "                x = Dropout(.1)(x)\n",
    "                x = BatchNormalization()(x)\n",
    "            \n",
    "        \n",
    "    output = Dense(7, activation='softmax')(x)\n",
    "    model = Model(inputs, output)    \n",
    "    model.compile(loss='categorical_crossentropy', optimizer='adam',metrics=['accuracy'])\n",
    "    return model\n"
   ]
  },
  {
   "cell_type": "code",
   "execution_count": 60,
   "metadata": {},
   "outputs": [
    {
     "name": "stderr",
     "output_type": "stream",
     "text": [
      "C:\\Users\\cmorv\\Anaconda3\\lib\\site-packages\\keras\\activations.py:211: UserWarning: Do not pass a layer instance (such as LeakyReLU) as the activation argument of another layer. Instead, advanced activation layers should be used just like any other layer in a model.\n",
      "  identifier=identifier.__class__.__name__))\n",
      "C:\\Users\\cmorv\\Anaconda3\\lib\\site-packages\\keras\\activations.py:211: UserWarning: Do not pass a layer instance (such as LeakyReLU) as the activation argument of another layer. Instead, advanced activation layers should be used just like any other layer in a model.\n",
      "  identifier=identifier.__class__.__name__))\n"
     ]
    },
    {
     "name": "stdout",
     "output_type": "stream",
     "text": [
      "WARNING:tensorflow:From C:\\Users\\cmorv\\Anaconda3\\lib\\site-packages\\tensorflow\\python\\ops\\math_ops.py:3066: to_int32 (from tensorflow.python.ops.math_ops) is deprecated and will be removed in a future version.\n",
      "Instructions for updating:\n",
      "Use tf.cast instead.\n",
      "Train on 1989813 samples, validate on 248727 samples\n",
      "Epoch 1/2\n",
      "1989813/1989813 [==============================] - 626s 315us/step - loss: 1.0977 - acc: 0.5316 - val_loss: 1.0472 - val_acc: 0.5557\n",
      "Epoch 2/2\n",
      "1989813/1989813 [==============================] - 623s 313us/step - loss: 1.0500 - acc: 0.5546 - val_loss: 1.0320 - val_acc: 0.5586\n"
     ]
    },
    {
     "data": {
      "text/plain": [
       "<keras.callbacks.History at 0x1aca115f198>"
      ]
     },
     "execution_count": 60,
     "metadata": {},
     "output_type": "execute_result"
    }
   ],
   "source": [
    "model = NN_model(hidden_layers=2, size_hl=200)\n",
    "\n",
    "\n",
    "model.fit(input_list_train,y_train,\n",
    "          epochs=2, batch_size=32,validation_data=(input_list_val,y_val),\n",
    "          verbose=1)\n",
    "\n"
   ]
  },
  {
   "cell_type": "code",
   "execution_count": 61,
   "metadata": {},
   "outputs": [
    {
     "name": "stdout",
     "output_type": "stream",
     "text": [
      "Normalized confusion matrix\n",
      "[[5.97570440e-01 3.55728024e-01 3.27990552e-02 9.17833643e-03\n",
      "  4.42044879e-03 1.68719420e-04 1.34975536e-04]\n",
      " [6.36766880e-02 7.23528832e-01 1.66091671e-01 3.41843273e-02\n",
      "  1.22424840e-02 1.97141449e-04 7.88565796e-05]\n",
      " [1.11574858e-03 1.72093888e-01 5.31075664e-01 2.19451217e-01\n",
      "  7.53336915e-02 7.02508368e-04 2.27282119e-04]\n",
      " [9.95361615e-05 8.52029542e-03 1.80518782e-01 4.82033723e-01\n",
      "  3.22636514e-01 5.09625147e-03 1.09489778e-03]\n",
      " [4.35426282e-05 9.36166507e-04 2.58207785e-02 2.49629888e-01\n",
      "  6.89192720e-01 2.77584255e-02 6.61847949e-03]\n",
      " [5.64047606e-05 2.25619042e-04 6.14811890e-03 6.02966890e-02\n",
      "  8.02244909e-01 1.00908117e-01 3.01201421e-02]\n",
      " [0.00000000e+00 1.64609053e-04 2.30452675e-03 1.39917695e-02\n",
      "  6.83621399e-01 2.01316872e-01 9.86008230e-02]]\n"
     ]
    },
    {
     "data": {
      "image/png": "[encoded data removed]",
      "text/plain": [
       "<Figure size 720x720 with 2 Axes>"
      ]
     },
     "metadata": {
      "needs_background": "light"
     },
     "output_type": "display_data"
    }
   ],
   "source": [
    "y_pred = model.predict(input_list_test)\n",
    "\n",
    "plot_confusion_matrix(y_test.argmax(axis=1), y_pred.argmax(axis=1), classes=list(np.unique(y_train.argmax(axis=1))), normalize=True, title='Normalized confusion matrix')\n",
    "plt.show()"
   ]
  },
  {
   "cell_type": "code",
   "execution_count": null,
   "metadata": {},
   "outputs": [],
   "source": []
  }
 ],
 "metadata": {
  "kernelspec": {
   "display_name": "Python 3",
   "language": "python",
   "name": "python3"
  },
  "language_info": {
   "codemirror_mode": {
    "name": "ipython",
    "version": 3
   },
   "file_extension": ".py",
   "mimetype": "text/x-python",
   "name": "python",
   "nbconvert_exporter": "python",
   "pygments_lexer": "ipython3",
   "version": "3.7.1"
  }
 },
 "nbformat": 4,
 "nbformat_minor": 2
}
