{
 "cells": [
  {
   "cell_type": "code",
   "execution_count": 1,
   "metadata": {
    "collapsed": true
   },
   "outputs": [],
   "source": [
    "import pandas as pd\n",
    "import numpy as np\n",
    "import matplotlib.pyplot as plt\n",
    "\n",
    "from sklearn.model_selection import train_test_split\n",
    "from sklearn.ensemble import RandomForestClassifier\n",
    "from sklearn.calibration import CalibratedClassifierCV\n",
    "\n",
    "from sklearn.metrics import confusion_matrix\n",
    "from sklearn.utils.multiclass import unique_labels\n",
    "\n",
    "import xgboost"
   ]
  },
  {
   "cell_type": "markdown",
   "metadata": {},
   "source": [
    "# Loading final.csv"
   ]
  },
  {
   "cell_type": "code",
   "execution_count": 2,
   "metadata": {
    "collapsed": false
   },
   "outputs": [
    {
     "name": "stderr",
     "output_type": "stream",
     "text": [
      "C:\\Users\\janlu\\AppData\\Roaming\\Python\\Python35\\site-packages\\numpy\\lib\\arraysetops.py:569: FutureWarning: elementwise comparison failed; returning scalar instead, but in the future will perform elementwise comparison\n",
      "  mask |= (ar1 == a)\n"
     ]
    },
    {
     "data": {
      "text/html": [
       "<div>\n",
       "<style scoped>\n",
       "    .dataframe tbody tr th:only-of-type {\n",
       "        vertical-align: middle;\n",
       "    }\n",
       "\n",
       "    .dataframe tbody tr th {\n",
       "        vertical-align: top;\n",
       "    }\n",
       "\n",
       "    .dataframe thead th {\n",
       "        text-align: right;\n",
       "    }\n",
       "</style>\n",
       "<table border=\"1\" class=\"dataframe\">\n",
       "  <thead>\n",
       "    <tr style=\"text-align: right;\">\n",
       "      <th></th>\n",
       "      <th>Nombre pieces principales</th>\n",
       "      <th>Valeur fonciere</th>\n",
       "      <th>Code type local</th>\n",
       "      <th>year</th>\n",
       "      <th>month</th>\n",
       "      <th>day</th>\n",
       "      <th>P15_POP</th>\n",
       "      <th>MED14</th>\n",
       "      <th>nombre de redevables</th>\n",
       "      <th>Typo degr̩ de densit̩</th>\n",
       "      <th>Part population dense (1)</th>\n",
       "      <th>Part population interm̩diaire (2)</th>\n",
       "      <th>Part population peu dense (3)</th>\n",
       "      <th>Part population tr̬s peu dense (4)</th>\n",
       "      <th>Longitude</th>\n",
       "      <th>Latitude</th>\n",
       "    </tr>\n",
       "  </thead>\n",
       "  <tbody>\n",
       "    <tr>\n",
       "      <th>0</th>\n",
       "      <td>2</td>\n",
       "      <td>240000</td>\n",
       "      <td>1</td>\n",
       "      <td>2014</td>\n",
       "      <td>1</td>\n",
       "      <td>1</td>\n",
       "      <td>7459.0</td>\n",
       "      <td>22316.0</td>\n",
       "      <td>0.0</td>\n",
       "      <td>2.0</td>\n",
       "      <td>0.0</td>\n",
       "      <td>0.624</td>\n",
       "      <td>0.364</td>\n",
       "      <td>0.012</td>\n",
       "      <td>5.717</td>\n",
       "      <td>43.333</td>\n",
       "    </tr>\n",
       "    <tr>\n",
       "      <th>1</th>\n",
       "      <td>3</td>\n",
       "      <td>43000</td>\n",
       "      <td>1</td>\n",
       "      <td>2014</td>\n",
       "      <td>1</td>\n",
       "      <td>1</td>\n",
       "      <td>9611.0</td>\n",
       "      <td>18267.0</td>\n",
       "      <td>0.0</td>\n",
       "      <td>3.0</td>\n",
       "      <td>0.0</td>\n",
       "      <td>0.000</td>\n",
       "      <td>0.707</td>\n",
       "      <td>0.293</td>\n",
       "      <td>0.162</td>\n",
       "      <td>45.959</td>\n",
       "    </tr>\n",
       "    <tr>\n",
       "      <th>2</th>\n",
       "      <td>2</td>\n",
       "      <td>240000</td>\n",
       "      <td>1</td>\n",
       "      <td>2014</td>\n",
       "      <td>1</td>\n",
       "      <td>1</td>\n",
       "      <td>7459.0</td>\n",
       "      <td>22316.0</td>\n",
       "      <td>0.0</td>\n",
       "      <td>2.0</td>\n",
       "      <td>0.0</td>\n",
       "      <td>0.624</td>\n",
       "      <td>0.364</td>\n",
       "      <td>0.012</td>\n",
       "      <td>5.717</td>\n",
       "      <td>43.333</td>\n",
       "    </tr>\n",
       "    <tr>\n",
       "      <th>3</th>\n",
       "      <td>4</td>\n",
       "      <td>73000</td>\n",
       "      <td>1</td>\n",
       "      <td>2014</td>\n",
       "      <td>1</td>\n",
       "      <td>2</td>\n",
       "      <td>1157.0</td>\n",
       "      <td>18233.0</td>\n",
       "      <td>0.0</td>\n",
       "      <td>3.0</td>\n",
       "      <td>0.0</td>\n",
       "      <td>0.000</td>\n",
       "      <td>0.865</td>\n",
       "      <td>0.135</td>\n",
       "      <td>1.564</td>\n",
       "      <td>42.764</td>\n",
       "    </tr>\n",
       "    <tr>\n",
       "      <th>4</th>\n",
       "      <td>5</td>\n",
       "      <td>150000</td>\n",
       "      <td>1</td>\n",
       "      <td>2014</td>\n",
       "      <td>1</td>\n",
       "      <td>2</td>\n",
       "      <td>12900.0</td>\n",
       "      <td>18641.0</td>\n",
       "      <td>0.0</td>\n",
       "      <td>2.0</td>\n",
       "      <td>0.0</td>\n",
       "      <td>0.450</td>\n",
       "      <td>0.354</td>\n",
       "      <td>0.197</td>\n",
       "      <td>2.567</td>\n",
       "      <td>49.650</td>\n",
       "    </tr>\n",
       "  </tbody>\n",
       "</table>\n",
       "</div>"
      ],
      "text/plain": [
       "   Nombre pieces principales  Valeur fonciere  Code type local  year  month  \\\n",
       "0                          2           240000                1  2014      1   \n",
       "1                          3            43000                1  2014      1   \n",
       "2                          2           240000                1  2014      1   \n",
       "3                          4            73000                1  2014      1   \n",
       "4                          5           150000                1  2014      1   \n",
       "\n",
       "   day  P15_POP    MED14  nombre de redevables  Typo degr̩ de densit̩  \\\n",
       "0    1   7459.0  22316.0                   0.0                    2.0   \n",
       "1    1   9611.0  18267.0                   0.0                    3.0   \n",
       "2    1   7459.0  22316.0                   0.0                    2.0   \n",
       "3    2   1157.0  18233.0                   0.0                    3.0   \n",
       "4    2  12900.0  18641.0                   0.0                    2.0   \n",
       "\n",
       "   Part population dense (1)  Part population interm̩diaire (2)  \\\n",
       "0                        0.0                              0.624   \n",
       "1                        0.0                              0.000   \n",
       "2                        0.0                              0.624   \n",
       "3                        0.0                              0.000   \n",
       "4                        0.0                              0.450   \n",
       "\n",
       "   Part population peu dense (3)  Part population tr̬s peu dense (4)  \\\n",
       "0                          0.364                               0.012   \n",
       "1                          0.707                               0.293   \n",
       "2                          0.364                               0.012   \n",
       "3                          0.865                               0.135   \n",
       "4                          0.354                               0.197   \n",
       "\n",
       "   Longitude  Latitude  \n",
       "0      5.717    43.333  \n",
       "1      0.162    45.959  \n",
       "2      5.717    43.333  \n",
       "3      1.564    42.764  \n",
       "4      2.567    49.650  "
      ]
     },
     "execution_count": 2,
     "metadata": {},
     "output_type": "execute_result"
    }
   ],
   "source": [
    "df = pd.read_csv('final.csv', low_memory = False, index_col=0)\n",
    "df.head()"
   ]
  },
  {
   "cell_type": "code",
   "execution_count": null,
   "metadata": {
    "collapsed": false
   },
   "outputs": [
    {
     "data": {
      "image/png": "[encoded data removed]",
      "text/plain": [
       "<Figure size 1800x720 with 1 Axes>"
      ]
     },
     "metadata": {},
     "output_type": "display_data"
    }
   ],
   "source": [
    "Y = df['Nombre pieces principales']\n",
    "\n",
    "plt.figure(figsize=(25,10))\n",
    "bars = plt.bar(Y.value_counts().index, list(Y.value_counts()))\n",
    "\n",
    "i = 0\n",
    "for rect in bars:\n",
    "    if rect.get_height() < 5000:\n",
    "        h = 20000**(i%2)\n",
    "        height = rect.get_height()\n",
    "        plt.text(rect.get_x() + rect.get_width()/2.0, height+h, '%d' % int(height), ha='center', va='bottom')\n",
    "        i += 1\n",
    "\n",
    "plt.xlabel('Number of rooms')\n",
    "plt.ylabel('Number of occurances')\n",
    "plt.title('Distribution of room types in Notarial database')\n",
    "#plt.grid(True)\n",
    "plt.xticks(Y.value_counts().index)\n",
    "#plt.savefig('Distribution of room types in Notarial database.png', dpi=200)\n",
    "plt.show()\n",
    "plt.close()"
   ]
  },
  {
   "cell_type": "markdown",
   "metadata": {},
   "source": [
    "# Initial class reduction - forming \"9+\" class\n",
    "\n",
    "There is a lrage \"tail\" of the (relatively) normal distribution of classes in form of hunders or thousands flats/apratments with number of rooms larger than 9. Our suggestion is not to delete them, but to immediately aggregate them into a composite class \"9+\", together with 9-roomed properties.\n",
    "### This will be denoted as 9 in the rest of the notebook (for it to remain numeric value in the data)"
   ]
  },
  {
   "cell_type": "code",
   "execution_count": null,
   "metadata": {
    "collapsed": false
   },
   "outputs": [],
   "source": [
    "# Redefining classes into 0,1,2,3,4,5,6,7,8,9+\n",
    "\n",
    "Y = list(Y)\n",
    "\n",
    "for i, m in enumerate(Y):\n",
    "    if m >= 9:\n",
    "        Y[i] = 9\n",
    "\n",
    "df.drop('Nombre pieces principales', axis = 1, inplace = True)\n",
    "df.insert(loc=0, column='Nombre pieces principales', value=Y)\n",
    "\n",
    "del Y\n",
    "df.head()"
   ]
  },
  {
   "cell_type": "code",
   "execution_count": null,
   "metadata": {
    "collapsed": false
   },
   "outputs": [],
   "source": [
    "Y = df['Nombre pieces principales']\n",
    "\n",
    "plt.figure(figsize=(25,10))\n",
    "bars = plt.bar(Y.value_counts().index, list(Y.value_counts()))\n",
    "\n",
    "i = 0\n",
    "for rect in bars:\n",
    "    if rect.get_height() < 5000:\n",
    "        h = 20000**(i%2)\n",
    "        height = rect.get_height()\n",
    "        plt.text(rect.get_x() + rect.get_width()/2.0, height+h, '%d' % int(height), ha='center', va='bottom')\n",
    "        i += 1\n",
    "\n",
    "plt.xlabel('Number of rooms')\n",
    "plt.ylabel('Number of occurances')\n",
    "plt.title('Distribution of room types in Notarial database')\n",
    "#plt.grid(True)\n",
    "plt.xticks(Y.value_counts().index)\n",
    "#plt.savefig('Distribution of room types in Notarial database.png', dpi=200)\n",
    "plt.show()\n",
    "plt.close()\n",
    "\n",
    "del Y"
   ]
  },
  {
   "cell_type": "markdown",
   "metadata": {},
   "source": [
    "# Test-train split and first model"
   ]
  },
  {
   "cell_type": "code",
   "execution_count": null,
   "metadata": {
    "collapsed": false
   },
   "outputs": [],
   "source": [
    "def split_data_in_two(df, r_s):\n",
    "    X = df.iloc[:,1:].to_numpy(copy=True)\n",
    "    Y = df.iloc[:,0].to_numpy(copy=True)\n",
    "    X_train, X_test, y_train, y_test = train_test_split(X, Y, test_size=0.2, random_state=r_s)\n",
    "    return X_train, X_test, y_train, y_test\n",
    "\n",
    "X_train, X_test, y_train, y_test = split_data_in_two(df, 42)"
   ]
  },
  {
   "cell_type": "markdown",
   "metadata": {},
   "source": [
    "### Checking if stratification works correctly"
   ]
  },
  {
   "cell_type": "code",
   "execution_count": null,
   "metadata": {
    "collapsed": false
   },
   "outputs": [],
   "source": [
    "Y = pd.Series(y_train)\n",
    "\n",
    "plt.figure(figsize=(25,10))\n",
    "bars = plt.bar(Y.value_counts().index, list(Y.value_counts()))\n",
    "\n",
    "plt.xlabel('Number of rooms')\n",
    "plt.ylabel('Number of occurances')\n",
    "plt.title('Distribution of room types in Notarial database')\n",
    "#plt.grid(True)\n",
    "plt.xticks(Y.value_counts().index)\n",
    "#plt.savefig('Distribution of room types in Notarial database.png', dpi=200)\n",
    "plt.show()\n",
    "plt.close()\n",
    "\n",
    "del Y"
   ]
  },
  {
   "cell_type": "code",
   "execution_count": null,
   "metadata": {
    "collapsed": false
   },
   "outputs": [],
   "source": [
    "Y = pd.Series(y_test)\n",
    "\n",
    "plt.figure(figsize=(25,10))\n",
    "bars = plt.bar(Y.value_counts().index, list(Y.value_counts()))\n",
    "\n",
    "plt.xlabel('Number of rooms')\n",
    "plt.ylabel('Number of occurances')\n",
    "plt.title('Distribution of room types in Notarial database')\n",
    "#plt.grid(True)\n",
    "plt.xticks(Y.value_counts().index)\n",
    "#plt.savefig('Distribution of room types in Notarial database.png', dpi=200)\n",
    "plt.show()\n",
    "plt.close()\n",
    "\n",
    "del Y"
   ]
  },
  {
   "cell_type": "markdown",
   "metadata": {},
   "source": [
    "Distributions look very similar, therefore stratification when splitting the data is working well. Now we can move onto training the first model."
   ]
  },
  {
   "cell_type": "markdown",
   "metadata": {},
   "source": [
    "### Training first model"
   ]
  },
  {
   "cell_type": "code",
   "execution_count": null,
   "metadata": {
    "collapsed": false
   },
   "outputs": [],
   "source": [
    "clf1 = RandomForestClassifier(n_estimators=100, max_depth=7, random_state=42, n_jobs=-1)\n",
    "clf1.fit(X_train, y_train)\n",
    "y_pred = clf1.predict(X_test)"
   ]
  },
  {
   "cell_type": "code",
   "execution_count": null,
   "metadata": {
    "collapsed": false
   },
   "outputs": [],
   "source": [
    "def plot_confusion_matrix(y_true, y_pred, classes,\n",
    "                          normalize=False,\n",
    "                          title=None,\n",
    "                          cmap=plt.cm.Blues):\n",
    "    \"\"\"\n",
    "    This function prints and plots the confusion matrix.\n",
    "    Normalization can be applied by setting `normalize=True`.\n",
    "    \"\"\"\n",
    "    if not title:\n",
    "        if normalize:\n",
    "            title = 'Normalized confusion matrix'\n",
    "        else:\n",
    "            title = 'Confusion matrix, without normalization'\n",
    "\n",
    "    # Compute confusion matrix\n",
    "    cm = confusion_matrix(y_true, y_pred)\n",
    "    if normalize:\n",
    "        cm = cm.astype('float') / cm.sum(axis=1)[:, np.newaxis]\n",
    "        print(\"Normalized confusion matrix\")\n",
    "    else:\n",
    "        print('Confusion matrix, without normalization')\n",
    "\n",
    "    print(cm)\n",
    "\n",
    "    fig, ax = plt.subplots(figsize=(10,10))\n",
    "    im = ax.imshow(cm, interpolation='nearest', cmap=cmap)\n",
    "    ax.figure.colorbar(im, ax=ax)\n",
    "    # We want to show all ticks...\n",
    "    ax.set(xticks=np.arange(cm.shape[1]),\n",
    "           yticks=np.arange(cm.shape[0]),\n",
    "           # ... and label them with the respective list entries\n",
    "           xticklabels=classes, yticklabels=classes,\n",
    "           title=title,\n",
    "           ylabel='True label',\n",
    "           xlabel='Predicted label')\n",
    "\n",
    "    # Rotate the tick labels and set their alignment.\n",
    "    plt.setp(ax.get_xticklabels(), rotation=45, ha=\"right\",\n",
    "             rotation_mode=\"anchor\")\n",
    "\n",
    "    # Loop over data dimensions and create text annotations.\n",
    "    fmt = '.2f' if normalize else 'd'\n",
    "    thresh = cm.max() / 2.\n",
    "    for i in range(cm.shape[0]):\n",
    "        for j in range(cm.shape[1]):\n",
    "            ax.text(j, i, format(cm[i, j], fmt),\n",
    "                    ha=\"center\", va=\"center\",\n",
    "                    color=\"white\" if cm[i, j] > thresh else \"black\")\n",
    "    fig.tight_layout()\n",
    "    return ax"
   ]
  },
  {
   "cell_type": "code",
   "execution_count": null,
   "metadata": {
    "collapsed": false
   },
   "outputs": [],
   "source": [
    "plot_confusion_matrix(y_test, y_pred, classes=list(np.unique(y_train)), normalize=True, title='Normalized confusion matrix')\n",
    "plt.show()"
   ]
  },
  {
   "cell_type": "markdown",
   "metadata": {},
   "source": [
    "### From the confusion matrix we can see that the class imbalance is probably causing overprediction of most common classes.\n",
    "\n",
    "\n",
    "\n",
    "## We need to assign weights in the model to our classes. Let's use \"balanced_subsample\" option."
   ]
  },
  {
   "cell_type": "code",
   "execution_count": null,
   "metadata": {
    "collapsed": true
   },
   "outputs": [],
   "source": [
    "clf2 = RandomForestClassifier(n_estimators=100, max_depth=7, random_state=42, n_jobs=-1, class_weight='balanced_subsample')\n",
    "clf2.fit(X_train, y_train)\n",
    "y_pred = clf2.predict(X_test)"
   ]
  },
  {
   "cell_type": "code",
   "execution_count": null,
   "metadata": {
    "collapsed": false
   },
   "outputs": [],
   "source": [
    "plot_confusion_matrix(y_test, y_pred, classes=list(np.unique(y_train)), normalize=True, title='Normalized confusion matrix')\n",
    "plt.show()"
   ]
  },
  {
   "cell_type": "markdown",
   "metadata": {},
   "source": [
    "### Now we have the opposite problem.\n",
    "\n",
    "\n",
    "\n",
    "## Let's use \"balanced\" option."
   ]
  },
  {
   "cell_type": "code",
   "execution_count": null,
   "metadata": {
    "collapsed": false
   },
   "outputs": [],
   "source": [
    "clf3 = RandomForestClassifier(n_estimators=100, max_depth=7, random_state=42, n_jobs=-1, class_weight='balanced')\n",
    "clf3.fit(X_train, y_train)\n",
    "y_pred = clf3.predict(X_test)"
   ]
  },
  {
   "cell_type": "code",
   "execution_count": null,
   "metadata": {
    "collapsed": false
   },
   "outputs": [],
   "source": [
    "plot_confusion_matrix(y_test, y_pred, classes=list(np.unique(y_train)), normalize=True, title='Normalized confusion matrix')\n",
    "plt.show()"
   ]
  },
  {
   "cell_type": "markdown",
   "metadata": {},
   "source": [
    "## Let's try a different model - calibrated forest\n",
    "\n",
    "### First without class weights"
   ]
  },
  {
   "cell_type": "code",
   "execution_count": null,
   "metadata": {
    "collapsed": false
   },
   "outputs": [],
   "source": [
    "clf4 = CalibratedClassifierCV(RandomForestClassifier(n_estimators=100, max_depth=7, random_state=42, n_jobs=-1), method='isotonic')\n",
    "clf4.fit(X_train, y_train)\n",
    "y_pred = clf4.predict(X_test)"
   ]
  },
  {
   "cell_type": "code",
   "execution_count": null,
   "metadata": {
    "collapsed": false
   },
   "outputs": [],
   "source": [
    "plot_confusion_matrix(y_test, y_pred, classes=list(np.unique(y_train)), normalize=True, title='Normalized confusion matrix')\n",
    "plt.show()"
   ]
  },
  {
   "cell_type": "markdown",
   "metadata": {},
   "source": [
    "### Now with wieghts. Let's use \"balanced\" option, since it performed better with uncallibrate random forest."
   ]
  },
  {
   "cell_type": "code",
   "execution_count": null,
   "metadata": {
    "collapsed": false
   },
   "outputs": [],
   "source": [
    "clf5 = CalibratedClassifierCV(RandomForestClassifier(n_estimators=100, max_depth=7, random_state=42, n_jobs=-1, class_weight='balanced'), method='isotonic')\n",
    "clf5.fit(X_train, y_train)\n",
    "y_pred = clf5.predict(X_test)"
   ]
  },
  {
   "cell_type": "code",
   "execution_count": null,
   "metadata": {
    "collapsed": false
   },
   "outputs": [],
   "source": [
    "plot_confusion_matrix(y_test, y_pred, classes=list(np.unique(y_train)), normalize=True, title='Normalized confusion matrix')\n",
    "plt.show()"
   ]
  },
  {
   "cell_type": "markdown",
   "metadata": {},
   "source": [
    "# XGBOOST\n",
    "\n",
    "With default hyperparameter settings."
   ]
  },
  {
   "cell_type": "code",
   "execution_count": null,
   "metadata": {
    "collapsed": false
   },
   "outputs": [],
   "source": [
    "model = xgboost.XGBClassifier(base_score =1/10)\n",
    "model.fit(X_train, y_train)\n",
    "y_pred = model.predict(X_test)"
   ]
  },
  {
   "cell_type": "code",
   "execution_count": null,
   "metadata": {
    "collapsed": false
   },
   "outputs": [],
   "source": [
    "plot_confusion_matrix(y_test, y_pred, classes=list(np.unique(y_train)), normalize=True, title='Normalized confusion matrix')\n",
    "plt.show()"
   ]
  },
  {
   "cell_type": "markdown",
   "metadata": {},
   "source": [
    "## XGBOOST with GridSearch\n",
    "\n",
    "This can be run to optimize hyperparameters. It will however run for 1-2 days on a powerful laptop. Should only be run if xgboost model is selected with current data set configuration (eg. current classes)"
   ]
  },
  {
   "cell_type": "code",
   "execution_count": null,
   "metadata": {
    "collapsed": false
   },
   "outputs": [],
   "source": [
    "'''max_depth = [3,5,6,8]\n",
    "n_estimators = [20, 50, 100, 200]\n",
    "learning_rate = [0.01, 0.05, 0.1, 0.2, 0.3]\n",
    "gamma = [0.001, 0.01, 0.1, 1]\n",
    "min_child_weight = [1, 2, 3]\n",
    "booster = ['gbtree']\n",
    "base_score = [1/10]\n",
    "\n",
    "model2 = xgboost.XGBClassifier()\n",
    "\n",
    "hyperF = dict(max_depth = max_depth, n_estimators = n_estimators, learning_rate = learning_rate, booster = booster, base_score = base_score, gamma = gamma, min_child_weight = min_child_weight)\n",
    "\n",
    "gridF = GridSearchCV(model2, hyperF, scoring = 'average_precision', cv = 3, verbose = 2, n_jobs = -1, refit=True)\n",
    "bestF = gridF.fit(X_train, y_train)\n",
    "y_pred = bestF.predict(X_test)'''"
   ]
  },
  {
   "cell_type": "code",
   "execution_count": null,
   "metadata": {
    "collapsed": false
   },
   "outputs": [],
   "source": [
    "'''plot_confusion_matrix(y_test, y_pred, classes=list(np.unique(y_train)), normalize=True, title='Normalized confusion matrix')\n",
    "plt.show()'''"
   ]
  },
  {
   "cell_type": "markdown",
   "metadata": {},
   "source": [
    "# Let's try regrouping classes and repeat the process\n",
    "\n",
    "We can try grouping all classes with lots of rooms into 7+ group and see what happens. It should give us more balanced classes.\n",
    "Also let's group together 0 and 1, for the same reason."
   ]
  },
  {
   "cell_type": "code",
   "execution_count": null,
   "metadata": {
    "collapsed": false
   },
   "outputs": [],
   "source": [
    "df = pd.read_csv('final.csv', low_memory = False, index_col=0)\n",
    "df.head()"
   ]
  },
  {
   "cell_type": "code",
   "execution_count": null,
   "metadata": {
    "collapsed": false
   },
   "outputs": [],
   "source": [
    "# Redefining classes into -1,2,3,4,5,6,7+\n",
    "\n",
    "Y = df['Nombre pieces principales']\n",
    "\n",
    "Y = list(Y)\n",
    "\n",
    "for i, m in enumerate(Y):\n",
    "    if m >= 7:\n",
    "        Y[i] = 7\n",
    "    elif m <= 1:\n",
    "        Y[i] = 1\n",
    "\n",
    "df.drop('Nombre pieces principales', axis = 1, inplace = True)\n",
    "df.insert(loc=0, column='Nombre pieces principales', value=Y)\n",
    "\n",
    "del Y\n",
    "df.head()"
   ]
  },
  {
   "cell_type": "code",
   "execution_count": null,
   "metadata": {
    "collapsed": false
   },
   "outputs": [],
   "source": [
    "Y = df['Nombre pieces principales']\n",
    "\n",
    "plt.figure(figsize=(25,10))\n",
    "bars = plt.bar(Y.value_counts().index, list(Y.value_counts()))\n",
    "\n",
    "i = 0\n",
    "for rect in bars:\n",
    "    if rect.get_height() < 5000:\n",
    "        h = 20000**(i%2)\n",
    "        height = rect.get_height()\n",
    "        plt.text(rect.get_x() + rect.get_width()/2.0, height+h, '%d' % int(height), ha='center', va='bottom')\n",
    "        i += 1\n",
    "\n",
    "plt.xlabel('Number of rooms')\n",
    "plt.ylabel('Number of occurances')\n",
    "plt.title('Distribution of room types in Notarial database')\n",
    "#plt.grid(True)\n",
    "plt.xticks(Y.value_counts().index)\n",
    "#plt.savefig('Distribution of room types in Notarial database.png', dpi=200)\n",
    "plt.show()\n",
    "plt.close()\n",
    "\n",
    "del Y"
   ]
  },
  {
   "cell_type": "code",
   "execution_count": null,
   "metadata": {
    "collapsed": true
   },
   "outputs": [],
   "source": [
    "def split_data_in_two(df, r_s):\n",
    "    X = df.iloc[:,1:].to_numpy(copy=True)\n",
    "    Y = df.iloc[:,0].to_numpy(copy=True)\n",
    "    X_train, X_test, y_train, y_test = train_test_split(X, Y, test_size=0.2, random_state=r_s)\n",
    "    return X_train, X_test, y_train, y_test\n",
    "\n",
    "X_train, X_test, y_train, y_test = split_data_in_two(df, 42)"
   ]
  },
  {
   "cell_type": "markdown",
   "metadata": {},
   "source": [
    "## RandomForest with \"balanced\" class weights"
   ]
  },
  {
   "cell_type": "code",
   "execution_count": null,
   "metadata": {
    "collapsed": true
   },
   "outputs": [],
   "source": [
    "clf6 = RandomForestClassifier(n_estimators=100, max_depth=7, random_state=42, n_jobs=-1, class_weight='balanced')\n",
    "clf6.fit(X_train, y_train)\n",
    "y_pred = clf6.predict(X_test)"
   ]
  },
  {
   "cell_type": "code",
   "execution_count": null,
   "metadata": {
    "collapsed": true
   },
   "outputs": [],
   "source": [
    "plot_confusion_matrix(y_test, y_pred, classes=list(np.unique(y_train)), normalize=True, title='Normalized confusion matrix')\n",
    "plt.show()"
   ]
  },
  {
   "cell_type": "markdown",
   "metadata": {},
   "source": [
    "## XGBOOST with \"balanced\" class weights"
   ]
  },
  {
   "cell_type": "code",
   "execution_count": null,
   "metadata": {
    "collapsed": true
   },
   "outputs": [],
   "source": [
    "model = xgboost.XGBClassifier()\n",
    "model.fit(X_train, y_train)\n",
    "y_pred = model.predict(X_test)"
   ]
  },
  {
   "cell_type": "code",
   "execution_count": null,
   "metadata": {
    "collapsed": true
   },
   "outputs": [],
   "source": [
    "plot_confusion_matrix(y_test, y_pred, classes=list(np.unique(y_train)), normalize=True, title='Normalized confusion matrix')\n",
    "plt.show()"
   ]
  },
  {
   "cell_type": "markdown",
   "metadata": {},
   "source": [
    "## XGBOOST with \"balanced\" class weights and small GridSearch hyperparameter optimization"
   ]
  },
  {
   "cell_type": "code",
   "execution_count": null,
   "metadata": {
    "collapsed": true
   },
   "outputs": [],
   "source": [
    "max_depth = [6,8]\n",
    "n_estimators = [50, 200]\n",
    "learning_rate = [0.01, 0.1, 0.3]\n",
    "gamma = [0.001, 0.1]\n",
    "min_child_weight = [1, 3]\n",
    "booster = ['gbtree']\n",
    "base_score = [1/7]\n",
    "\n",
    "model2 = xgboost.XGBClassifier()\n",
    "\n",
    "hyperF = dict(max_depth = max_depth, n_estimators = n_estimators, learning_rate = learning_rate, booster = booster, base_score = base_score, gamma = gamma, min_child_weight = min_child_weight)\n",
    "\n",
    "gridF = GridSearchCV(model2, hyperF, scoring = 'average_precision', cv = 3, verbose = 2, n_jobs = -1, refit=True)\n",
    "bestF = gridF.fit(X_train, y_train)\n",
    "y_pred = bestF.predict(X_test)"
   ]
  },
  {
   "cell_type": "code",
   "execution_count": null,
   "metadata": {
    "collapsed": true
   },
   "outputs": [],
   "source": [
    "plot_confusion_matrix(y_test, y_pred, classes=list(np.unique(y_train)), normalize=True, title='Normalized confusion matrix')\n",
    "plt.show()"
   ]
  },
  {
   "cell_type": "code",
   "execution_count": null,
   "metadata": {
    "collapsed": true
   },
   "outputs": [],
   "source": []
  }
 ],
 "metadata": {
  "anaconda-cloud": {},
  "kernelspec": {
   "display_name": "Python 3",
   "language": "python",
   "name": "python3"
  },
  "language_info": {
   "codemirror_mode": {
    "name": "ipython",
    "version": 3
   },
   "file_extension": ".py",
   "mimetype": "text/x-python",
   "name": "python",
   "nbconvert_exporter": "python",
   "pygments_lexer": "ipython3",
   "version": "3.7.1"
  }
 },
 "nbformat": 4,
 "nbformat_minor": 2
}
